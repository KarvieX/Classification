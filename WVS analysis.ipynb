{
 "cells": [
  {
   "cell_type": "markdown",
   "metadata": {},
   "source": [
    "# World Value Survey Data Processing and Analysis"
   ]
  },
  {
   "cell_type": "markdown",
   "metadata": {},
   "source": [
    "By Karvie Xia | Feb 2020 "
   ]
  },
  {
   "cell_type": "markdown",
   "metadata": {},
   "source": [
    "The data was retrieved from the **World Values Survey** data from its webpage http://www.worldvaluessurvey.org/wvs.jsp. The questions revolve around different opinion topics, including trust, work, religion, family, gender equality, and nationalism. \n",
    "\n",
    "The analysis would take a special look at what the respondents think about abortion, as it is indicated in question V204:\n",
    "\n",
    "\"*Please tell if abortion can always be justified, never be justified, or something in between.*\"\n",
    "\n",
    "The analysis had three steps listed as follows:\n",
    "\n",
    "**1. Data processing**: extract the data from its source, transform the data by cleaning duplicates/missing vlues/handling nominal data/others, and save the ready-to-analyze data frame.\n",
    "\n",
    "**2. Cross-validation set-up**: split train/test dataset and automate the process to train a model capable of classifing respondents' opinions on abortion into 2 categories (1 - justified, 0 - never justified), and report the machine learning evaluation score (accuracy and f_score).\n",
    "\n",
    "**3. Machine learning comparison**: apply k-NN, logistic regression and Support-Vector-Machine (SVM) models to train the data, select the best model and discuss findings."
   ]
  },
  {
   "cell_type": "code",
   "execution_count": 1,
   "metadata": {},
   "outputs": [],
   "source": [
    "import numpy as np\n",
    "import pandas as pd\n",
    "import statsmodels.formula.api as smf\n",
    "import matplotlib.pyplot as plt\n",
    "%matplotlib inline\n",
    "from sklearn.neighbors import KNeighborsClassifier\n",
    "from sklearn.svm import SVC\n",
    "from sklearn.model_selection import KFold\n",
    "from sklearn.metrics import f1_score\n",
    "from sklearn.preprocessing import normalize\n",
    "from sklearn.linear_model import LogisticRegression"
   ]
  },
  {
   "cell_type": "markdown",
   "metadata": {},
   "source": [
    "### 1 Explore and prepare the data"
   ]
  },
  {
   "cell_type": "markdown",
   "metadata": {},
   "source": [
    "#### 1-1. Load the data"
   ]
  },
  {
   "cell_type": "code",
   "execution_count": 2,
   "metadata": {},
   "outputs": [
    {
     "data": {
      "text/html": [
       "<div>\n",
       "<style scoped>\n",
       "    .dataframe tbody tr th:only-of-type {\n",
       "        vertical-align: middle;\n",
       "    }\n",
       "\n",
       "    .dataframe tbody tr th {\n",
       "        vertical-align: top;\n",
       "    }\n",
       "\n",
       "    .dataframe thead th {\n",
       "        text-align: right;\n",
       "    }\n",
       "</style>\n",
       "<table border=\"1\" class=\"dataframe\">\n",
       "  <thead>\n",
       "    <tr style=\"text-align: right;\">\n",
       "      <th></th>\n",
       "      <th>V2</th>\n",
       "      <th>V4</th>\n",
       "      <th>V5</th>\n",
       "      <th>V6</th>\n",
       "      <th>V7</th>\n",
       "      <th>V8</th>\n",
       "      <th>V9</th>\n",
       "      <th>V10</th>\n",
       "      <th>V11</th>\n",
       "      <th>V12</th>\n",
       "      <th>...</th>\n",
       "      <th>MN_228S8</th>\n",
       "      <th>MN_229A</th>\n",
       "      <th>MN_230A</th>\n",
       "      <th>MN_233A</th>\n",
       "      <th>MN_237B1</th>\n",
       "      <th>MN_249A1</th>\n",
       "      <th>MN_249A3</th>\n",
       "      <th>I_RELIGBEL</th>\n",
       "      <th>I_NORM1</th>\n",
       "      <th>I_VOICE1</th>\n",
       "    </tr>\n",
       "  </thead>\n",
       "  <tbody>\n",
       "    <tr>\n",
       "      <td>8093</td>\n",
       "      <td>112</td>\n",
       "      <td>1</td>\n",
       "      <td>2</td>\n",
       "      <td>2</td>\n",
       "      <td>2</td>\n",
       "      <td>1</td>\n",
       "      <td>2</td>\n",
       "      <td>3</td>\n",
       "      <td>3</td>\n",
       "      <td>1</td>\n",
       "      <td>...</td>\n",
       "      <td>-4</td>\n",
       "      <td>-4</td>\n",
       "      <td>-4</td>\n",
       "      <td>-4</td>\n",
       "      <td>-4</td>\n",
       "      <td>-4</td>\n",
       "      <td>-4</td>\n",
       "      <td>1.0</td>\n",
       "      <td>1.0</td>\n",
       "      <td>0.66</td>\n",
       "    </tr>\n",
       "    <tr>\n",
       "      <td>52474</td>\n",
       "      <td>566</td>\n",
       "      <td>1</td>\n",
       "      <td>2</td>\n",
       "      <td>4</td>\n",
       "      <td>1</td>\n",
       "      <td>1</td>\n",
       "      <td>1</td>\n",
       "      <td>1</td>\n",
       "      <td>3</td>\n",
       "      <td>2</td>\n",
       "      <td>...</td>\n",
       "      <td>-4</td>\n",
       "      <td>-4</td>\n",
       "      <td>-4</td>\n",
       "      <td>-4</td>\n",
       "      <td>-4</td>\n",
       "      <td>-4</td>\n",
       "      <td>-4</td>\n",
       "      <td>0.0</td>\n",
       "      <td>0.0</td>\n",
       "      <td>1.00</td>\n",
       "    </tr>\n",
       "    <tr>\n",
       "      <td>6770</td>\n",
       "      <td>48</td>\n",
       "      <td>2</td>\n",
       "      <td>1</td>\n",
       "      <td>3</td>\n",
       "      <td>2</td>\n",
       "      <td>1</td>\n",
       "      <td>2</td>\n",
       "      <td>3</td>\n",
       "      <td>2</td>\n",
       "      <td>2</td>\n",
       "      <td>...</td>\n",
       "      <td>1</td>\n",
       "      <td>2</td>\n",
       "      <td>2</td>\n",
       "      <td>5</td>\n",
       "      <td>-3</td>\n",
       "      <td>-1</td>\n",
       "      <td>-1</td>\n",
       "      <td>0.0</td>\n",
       "      <td>0.0</td>\n",
       "      <td>0.33</td>\n",
       "    </tr>\n",
       "    <tr>\n",
       "      <td>30252</td>\n",
       "      <td>356</td>\n",
       "      <td>1</td>\n",
       "      <td>1</td>\n",
       "      <td>1</td>\n",
       "      <td>2</td>\n",
       "      <td>4</td>\n",
       "      <td>2</td>\n",
       "      <td>2</td>\n",
       "      <td>1</td>\n",
       "      <td>1</td>\n",
       "      <td>...</td>\n",
       "      <td>-4</td>\n",
       "      <td>-4</td>\n",
       "      <td>-4</td>\n",
       "      <td>-4</td>\n",
       "      <td>-4</td>\n",
       "      <td>-4</td>\n",
       "      <td>-4</td>\n",
       "      <td>0.0</td>\n",
       "      <td>0.0</td>\n",
       "      <td>0.66</td>\n",
       "    </tr>\n",
       "    <tr>\n",
       "      <td>36248</td>\n",
       "      <td>400</td>\n",
       "      <td>1</td>\n",
       "      <td>2</td>\n",
       "      <td>2</td>\n",
       "      <td>2</td>\n",
       "      <td>4</td>\n",
       "      <td>1</td>\n",
       "      <td>2</td>\n",
       "      <td>1</td>\n",
       "      <td>2</td>\n",
       "      <td>...</td>\n",
       "      <td>2</td>\n",
       "      <td>-4</td>\n",
       "      <td>-3</td>\n",
       "      <td>-3</td>\n",
       "      <td>-4</td>\n",
       "      <td>1</td>\n",
       "      <td>1</td>\n",
       "      <td>0.0</td>\n",
       "      <td>0.0</td>\n",
       "      <td>0.66</td>\n",
       "    </tr>\n",
       "  </tbody>\n",
       "</table>\n",
       "<p>5 rows × 328 columns</p>\n",
       "</div>"
      ],
      "text/plain": [
       "        V2  V4  V5  V6  V7  V8  V9  V10  V11  V12  ...  MN_228S8  MN_229A  \\\n",
       "8093   112   1   2   2   2   1   2    3    3    1  ...        -4       -4   \n",
       "52474  566   1   2   4   1   1   1    1    3    2  ...        -4       -4   \n",
       "6770    48   2   1   3   2   1   2    3    2    2  ...         1        2   \n",
       "30252  356   1   1   1   2   4   2    2    1    1  ...        -4       -4   \n",
       "36248  400   1   2   2   2   4   1    2    1    2  ...         2       -4   \n",
       "\n",
       "       MN_230A  MN_233A  MN_237B1  MN_249A1  MN_249A3  I_RELIGBEL  I_NORM1  \\\n",
       "8093        -4       -4        -4        -4        -4         1.0      1.0   \n",
       "52474       -4       -4        -4        -4        -4         0.0      0.0   \n",
       "6770         2        5        -3        -1        -1         0.0      0.0   \n",
       "30252       -4       -4        -4        -4        -4         0.0      0.0   \n",
       "36248       -3       -3        -4         1         1         0.0      0.0   \n",
       "\n",
       "       I_VOICE1  \n",
       "8093       0.66  \n",
       "52474      1.00  \n",
       "6770       0.33  \n",
       "30252      0.66  \n",
       "36248      0.66  \n",
       "\n",
       "[5 rows x 328 columns]"
      ]
     },
     "execution_count": 2,
     "metadata": {},
     "output_type": "execute_result"
    }
   ],
   "source": [
    "# load the data\n",
    "wvs = pd.read_csv('wvs.csv.bz2', sep='\\t')\n",
    "wvs.sample(5)"
   ]
  },
  {
   "cell_type": "code",
   "execution_count": 3,
   "metadata": {},
   "outputs": [
    {
     "data": {
      "text/plain": [
       "(90350, 328)"
      ]
     },
     "execution_count": 3,
     "metadata": {},
     "output_type": "execute_result"
    }
   ],
   "source": [
    "wvs.shape"
   ]
  },
  {
   "cell_type": "markdown",
   "metadata": {},
   "source": [
    "We have 90350 responses and 328 variables."
   ]
  },
  {
   "cell_type": "markdown",
   "metadata": {},
   "source": [
    "#### 1-2. Create a summary table"
   ]
  },
  {
   "cell_type": "code",
   "execution_count": 4,
   "metadata": {
    "scrolled": true
   },
   "outputs": [
    {
     "data": {
      "text/plain": [
       "count    90350.000000\n",
       "mean         2.946386\n",
       "std          2.964040\n",
       "min         -5.000000\n",
       "25%          1.000000\n",
       "50%          2.000000\n",
       "75%          5.000000\n",
       "max         10.000000\n",
       "Name: V204, dtype: float64"
      ]
     },
     "execution_count": 4,
     "metadata": {},
     "output_type": "execute_result"
    }
   ],
   "source": [
    "# summary table\n",
    "wvs.V204.describe()"
   ]
  },
  {
   "cell_type": "code",
   "execution_count": 5,
   "metadata": {
    "scrolled": true
   },
   "outputs": [
    {
     "data": {
      "text/plain": [
       "(85742, 328)"
      ]
     },
     "execution_count": 5,
     "metadata": {},
     "output_type": "execute_result"
    }
   ],
   "source": [
    "# number of non-missing values\n",
    "wvs[wvs.V204 > 0].shape"
   ]
  },
  {
   "cell_type": "markdown",
   "metadata": {},
   "source": [
    "There are 85742 non-missing values."
   ]
  },
  {
   "cell_type": "code",
   "execution_count": 6,
   "metadata": {
    "scrolled": false
   },
   "outputs": [
    {
     "data": {
      "image/png": "[encoded data removed]",
      "text/plain": [
       "<Figure size 432x288 with 1 Axes>"
      ]
     },
     "metadata": {
      "needs_background": "light"
     },
     "output_type": "display_data"
    }
   ],
   "source": [
    "# describe the global opinion about abortion\n",
    "a = wvs.V204.value_counts(1)\n",
    "plt.bar(a.index, a.values)\n",
    "plt.title('percentage of ratings')\n",
    "plt.show()"
   ]
  },
  {
   "cell_type": "markdown",
   "metadata": {},
   "source": [
    "The mean of the rating of V204 is around 3, and nearly 45% respondents chose 1. The majority of respondents' answers skewed to \"never justifiable\" (answer <=5), suggesting that in most regions worldwide, people were against the idea of abortion. "
   ]
  },
  {
   "cell_type": "markdown",
   "metadata": {},
   "source": [
    "#### 1-3. Remove missing values"
   ]
  },
  {
   "cell_type": "code",
   "execution_count": 7,
   "metadata": {},
   "outputs": [],
   "source": [
    "# drop non-positive integers for V204 and V2\n",
    "wvs = wvs[(wvs['V204']>0)&(wvs['V2']>0)]"
   ]
  },
  {
   "cell_type": "code",
   "execution_count": 8,
   "metadata": {},
   "outputs": [
    {
     "data": {
      "text/plain": [
       "(79267, 328)"
      ]
     },
     "execution_count": 8,
     "metadata": {},
     "output_type": "execute_result"
    }
   ],
   "source": [
    "# drop null for other variables\n",
    "wvs = wvs.dropna()\n",
    "\n",
    "# final numbers\n",
    "wvs.shape"
   ]
  },
  {
   "cell_type": "markdown",
   "metadata": {},
   "source": [
    "There were 79267 rows and 327 columns left in the dataset."
   ]
  },
  {
   "cell_type": "markdown",
   "metadata": {},
   "source": [
    "#### 1-4. Create a binary variable "
   ]
  },
  {
   "cell_type": "code",
   "execution_count": 9,
   "metadata": {},
   "outputs": [],
   "source": [
    "wvs['abortion'] = wvs.V204>3\n",
    "wvs = wvs.drop(columns = 'V204')"
   ]
  },
  {
   "cell_type": "code",
   "execution_count": 10,
   "metadata": {},
   "outputs": [],
   "source": [
    "wvs.loc[wvs['abortion'] == True,'abortion']=1\n",
    "wvs.loc[wvs['abortion'] == False,'abortion']=0"
   ]
  },
  {
   "cell_type": "code",
   "execution_count": 11,
   "metadata": {},
   "outputs": [
    {
     "data": {
      "text/plain": [
       "0    50435\n",
       "1    28832\n",
       "Name: abortion, dtype: int64"
      ]
     },
     "execution_count": 11,
     "metadata": {},
     "output_type": "execute_result"
    }
   ],
   "source": [
    "wvs.abortion.value_counts()"
   ]
  },
  {
   "cell_type": "markdown",
   "metadata": {},
   "source": [
    "#### 1-5. Compute correlation table"
   ]
  },
  {
   "cell_type": "code",
   "execution_count": 12,
   "metadata": {},
   "outputs": [],
   "source": [
    "x = wvs.corr(method = 'pearson')"
   ]
  },
  {
   "cell_type": "code",
   "execution_count": 13,
   "metadata": {
    "scrolled": true
   },
   "outputs": [],
   "source": [
    "# compute the abosolute value of pearson correlation\n",
    "corr = abs(x['abortion'])"
   ]
  },
  {
   "cell_type": "code",
   "execution_count": 14,
   "metadata": {},
   "outputs": [
    {
     "data": {
      "text/plain": [
       "abortion    1.000000\n",
       "V205        0.548653\n",
       "V203        0.485419\n",
       "V206        0.446394\n",
       "V207        0.418271\n",
       "              ...   \n",
       "V7          0.003503\n",
       "V103        0.003465\n",
       "V17         0.001757\n",
       "V125_06     0.000761\n",
       "V113        0.000752\n",
       "Name: abortion, Length: 328, dtype: float64"
      ]
     },
     "execution_count": 14,
     "metadata": {},
     "output_type": "execute_result"
    }
   ],
   "source": [
    "# sort the absolute values descendingly\n",
    "corr.sort_values(ascending = False)"
   ]
  },
  {
   "cell_type": "markdown",
   "metadata": {},
   "source": [
    "There are several variables having large correlation factors. Defining strong correlation by setting the threshold |r| > 0.3:"
   ]
  },
  {
   "cell_type": "code",
   "execution_count": 15,
   "metadata": {
    "scrolled": true
   },
   "outputs": [
    {
     "data": {
      "text/plain": [
       "V9          0.314117\n",
       "V152        0.315280\n",
       "V203        0.485419\n",
       "V205        0.548653\n",
       "V206        0.446394\n",
       "V207        0.418271\n",
       "abortion    1.000000\n",
       "Name: abortion, dtype: float64"
      ]
     },
     "execution_count": 15,
     "metadata": {},
     "output_type": "execute_result"
    }
   ],
   "source": [
    "corr[corr>0.3]"
   ]
  },
  {
   "cell_type": "markdown",
   "metadata": {},
   "source": [
    "Variables that have strong correlation with abortion represent:\n",
    "\n",
    "**V9**: important in life: religion\n",
    "\n",
    "**V152**: how important is God in your life\n",
    "\n",
    "**V203**: justifiable: homosexuality\n",
    "\n",
    "**V205**: justifiable: divorce\n",
    "\n",
    "**V207**: justifiable: suicide\n",
    "\n",
    "Correlated variables are strongly related to religion reasons, which could lead to different but strong opinions on minor groups (homosexuality), relationships (divorce) and abnormal behavior (suicide). "
   ]
  },
  {
   "cell_type": "markdown",
   "metadata": {},
   "source": [
    "#### 1-6. Country dummies"
   ]
  },
  {
   "cell_type": "code",
   "execution_count": 16,
   "metadata": {},
   "outputs": [],
   "source": [
    "wvs2 = wvs.rename({'V2':'Country'},axis='columns')"
   ]
  },
  {
   "cell_type": "code",
   "execution_count": 17,
   "metadata": {},
   "outputs": [],
   "source": [
    "wvs3 = pd.get_dummies(wvs2, columns=['Country'])"
   ]
  },
  {
   "cell_type": "code",
   "execution_count": 18,
   "metadata": {},
   "outputs": [
    {
     "data": {
      "text/plain": [
       "(79267, 385)"
      ]
     },
     "execution_count": 18,
     "metadata": {},
     "output_type": "execute_result"
    }
   ],
   "source": [
    "wvs3.shape"
   ]
  },
  {
   "cell_type": "markdown",
   "metadata": {},
   "source": [
    "Now the dataset has 79267 rows and 385 columns."
   ]
  },
  {
   "cell_type": "code",
   "execution_count": 19,
   "metadata": {},
   "outputs": [],
   "source": [
    "# find out country-generated dummies using wildcard\n",
    "ctryclm = [col for col in wvs3.columns if 'Country' in col]"
   ]
  },
  {
   "cell_type": "code",
   "execution_count": 20,
   "metadata": {},
   "outputs": [
    {
     "name": "stdout",
     "output_type": "stream",
     "text": [
      "58\n"
     ]
    }
   ],
   "source": [
    "print(len(ctryclm))"
   ]
  },
  {
   "cell_type": "markdown",
   "metadata": {},
   "source": [
    "There were 58 country dummies."
   ]
  },
  {
   "cell_type": "code",
   "execution_count": 21,
   "metadata": {},
   "outputs": [],
   "source": [
    "# remove one of these dummies\n",
    "wvs_clean = wvs3.drop(['Country_887'],axis=1)"
   ]
  },
  {
   "cell_type": "code",
   "execution_count": 22,
   "metadata": {},
   "outputs": [
    {
     "data": {
      "text/html": [
       "<div>\n",
       "<style scoped>\n",
       "    .dataframe tbody tr th:only-of-type {\n",
       "        vertical-align: middle;\n",
       "    }\n",
       "\n",
       "    .dataframe tbody tr th {\n",
       "        vertical-align: top;\n",
       "    }\n",
       "\n",
       "    .dataframe thead th {\n",
       "        text-align: right;\n",
       "    }\n",
       "</style>\n",
       "<table border=\"1\" class=\"dataframe\">\n",
       "  <thead>\n",
       "    <tr style=\"text-align: right;\">\n",
       "      <th></th>\n",
       "      <th>V4</th>\n",
       "      <th>V5</th>\n",
       "      <th>V6</th>\n",
       "      <th>V7</th>\n",
       "      <th>V8</th>\n",
       "      <th>V9</th>\n",
       "      <th>V10</th>\n",
       "      <th>V11</th>\n",
       "      <th>V12</th>\n",
       "      <th>V13</th>\n",
       "      <th>...</th>\n",
       "      <th>Country_724</th>\n",
       "      <th>Country_752</th>\n",
       "      <th>Country_764</th>\n",
       "      <th>Country_780</th>\n",
       "      <th>Country_788</th>\n",
       "      <th>Country_792</th>\n",
       "      <th>Country_804</th>\n",
       "      <th>Country_840</th>\n",
       "      <th>Country_858</th>\n",
       "      <th>Country_860</th>\n",
       "    </tr>\n",
       "  </thead>\n",
       "  <tbody>\n",
       "    <tr>\n",
       "      <td>0</td>\n",
       "      <td>1</td>\n",
       "      <td>1</td>\n",
       "      <td>1</td>\n",
       "      <td>-2</td>\n",
       "      <td>1</td>\n",
       "      <td>1</td>\n",
       "      <td>2</td>\n",
       "      <td>1</td>\n",
       "      <td>1</td>\n",
       "      <td>1</td>\n",
       "      <td>...</td>\n",
       "      <td>0</td>\n",
       "      <td>0</td>\n",
       "      <td>0</td>\n",
       "      <td>0</td>\n",
       "      <td>0</td>\n",
       "      <td>0</td>\n",
       "      <td>0</td>\n",
       "      <td>0</td>\n",
       "      <td>0</td>\n",
       "      <td>0</td>\n",
       "    </tr>\n",
       "    <tr>\n",
       "      <td>1</td>\n",
       "      <td>1</td>\n",
       "      <td>2</td>\n",
       "      <td>3</td>\n",
       "      <td>4</td>\n",
       "      <td>2</td>\n",
       "      <td>2</td>\n",
       "      <td>2</td>\n",
       "      <td>2</td>\n",
       "      <td>2</td>\n",
       "      <td>1</td>\n",
       "      <td>...</td>\n",
       "      <td>0</td>\n",
       "      <td>0</td>\n",
       "      <td>0</td>\n",
       "      <td>0</td>\n",
       "      <td>0</td>\n",
       "      <td>0</td>\n",
       "      <td>0</td>\n",
       "      <td>0</td>\n",
       "      <td>0</td>\n",
       "      <td>0</td>\n",
       "    </tr>\n",
       "    <tr>\n",
       "      <td>2</td>\n",
       "      <td>1</td>\n",
       "      <td>3</td>\n",
       "      <td>2</td>\n",
       "      <td>4</td>\n",
       "      <td>2</td>\n",
       "      <td>1</td>\n",
       "      <td>2</td>\n",
       "      <td>2</td>\n",
       "      <td>2</td>\n",
       "      <td>2</td>\n",
       "      <td>...</td>\n",
       "      <td>0</td>\n",
       "      <td>0</td>\n",
       "      <td>0</td>\n",
       "      <td>0</td>\n",
       "      <td>0</td>\n",
       "      <td>0</td>\n",
       "      <td>0</td>\n",
       "      <td>0</td>\n",
       "      <td>0</td>\n",
       "      <td>0</td>\n",
       "    </tr>\n",
       "    <tr>\n",
       "      <td>3</td>\n",
       "      <td>1</td>\n",
       "      <td>1</td>\n",
       "      <td>3</td>\n",
       "      <td>4</td>\n",
       "      <td>3</td>\n",
       "      <td>1</td>\n",
       "      <td>2</td>\n",
       "      <td>1</td>\n",
       "      <td>2</td>\n",
       "      <td>2</td>\n",
       "      <td>...</td>\n",
       "      <td>0</td>\n",
       "      <td>0</td>\n",
       "      <td>0</td>\n",
       "      <td>0</td>\n",
       "      <td>0</td>\n",
       "      <td>0</td>\n",
       "      <td>0</td>\n",
       "      <td>0</td>\n",
       "      <td>0</td>\n",
       "      <td>0</td>\n",
       "    </tr>\n",
       "    <tr>\n",
       "      <td>4</td>\n",
       "      <td>1</td>\n",
       "      <td>1</td>\n",
       "      <td>1</td>\n",
       "      <td>2</td>\n",
       "      <td>1</td>\n",
       "      <td>1</td>\n",
       "      <td>1</td>\n",
       "      <td>3</td>\n",
       "      <td>2</td>\n",
       "      <td>1</td>\n",
       "      <td>...</td>\n",
       "      <td>0</td>\n",
       "      <td>0</td>\n",
       "      <td>0</td>\n",
       "      <td>0</td>\n",
       "      <td>0</td>\n",
       "      <td>0</td>\n",
       "      <td>0</td>\n",
       "      <td>0</td>\n",
       "      <td>0</td>\n",
       "      <td>0</td>\n",
       "    </tr>\n",
       "    <tr>\n",
       "      <td>...</td>\n",
       "      <td>...</td>\n",
       "      <td>...</td>\n",
       "      <td>...</td>\n",
       "      <td>...</td>\n",
       "      <td>...</td>\n",
       "      <td>...</td>\n",
       "      <td>...</td>\n",
       "      <td>...</td>\n",
       "      <td>...</td>\n",
       "      <td>...</td>\n",
       "      <td>...</td>\n",
       "      <td>...</td>\n",
       "      <td>...</td>\n",
       "      <td>...</td>\n",
       "      <td>...</td>\n",
       "      <td>...</td>\n",
       "      <td>...</td>\n",
       "      <td>...</td>\n",
       "      <td>...</td>\n",
       "      <td>...</td>\n",
       "      <td>...</td>\n",
       "    </tr>\n",
       "    <tr>\n",
       "      <td>90345</td>\n",
       "      <td>1</td>\n",
       "      <td>3</td>\n",
       "      <td>2</td>\n",
       "      <td>4</td>\n",
       "      <td>1</td>\n",
       "      <td>1</td>\n",
       "      <td>3</td>\n",
       "      <td>3</td>\n",
       "      <td>2</td>\n",
       "      <td>1</td>\n",
       "      <td>...</td>\n",
       "      <td>0</td>\n",
       "      <td>0</td>\n",
       "      <td>0</td>\n",
       "      <td>0</td>\n",
       "      <td>0</td>\n",
       "      <td>0</td>\n",
       "      <td>0</td>\n",
       "      <td>0</td>\n",
       "      <td>0</td>\n",
       "      <td>0</td>\n",
       "    </tr>\n",
       "    <tr>\n",
       "      <td>90346</td>\n",
       "      <td>1</td>\n",
       "      <td>1</td>\n",
       "      <td>1</td>\n",
       "      <td>3</td>\n",
       "      <td>1</td>\n",
       "      <td>1</td>\n",
       "      <td>3</td>\n",
       "      <td>1</td>\n",
       "      <td>2</td>\n",
       "      <td>1</td>\n",
       "      <td>...</td>\n",
       "      <td>0</td>\n",
       "      <td>0</td>\n",
       "      <td>0</td>\n",
       "      <td>0</td>\n",
       "      <td>0</td>\n",
       "      <td>0</td>\n",
       "      <td>0</td>\n",
       "      <td>0</td>\n",
       "      <td>0</td>\n",
       "      <td>0</td>\n",
       "    </tr>\n",
       "    <tr>\n",
       "      <td>90347</td>\n",
       "      <td>1</td>\n",
       "      <td>2</td>\n",
       "      <td>1</td>\n",
       "      <td>3</td>\n",
       "      <td>1</td>\n",
       "      <td>1</td>\n",
       "      <td>3</td>\n",
       "      <td>3</td>\n",
       "      <td>2</td>\n",
       "      <td>1</td>\n",
       "      <td>...</td>\n",
       "      <td>0</td>\n",
       "      <td>0</td>\n",
       "      <td>0</td>\n",
       "      <td>0</td>\n",
       "      <td>0</td>\n",
       "      <td>0</td>\n",
       "      <td>0</td>\n",
       "      <td>0</td>\n",
       "      <td>0</td>\n",
       "      <td>0</td>\n",
       "    </tr>\n",
       "    <tr>\n",
       "      <td>90348</td>\n",
       "      <td>1</td>\n",
       "      <td>2</td>\n",
       "      <td>2</td>\n",
       "      <td>3</td>\n",
       "      <td>1</td>\n",
       "      <td>1</td>\n",
       "      <td>2</td>\n",
       "      <td>2</td>\n",
       "      <td>2</td>\n",
       "      <td>1</td>\n",
       "      <td>...</td>\n",
       "      <td>0</td>\n",
       "      <td>0</td>\n",
       "      <td>0</td>\n",
       "      <td>0</td>\n",
       "      <td>0</td>\n",
       "      <td>0</td>\n",
       "      <td>0</td>\n",
       "      <td>0</td>\n",
       "      <td>0</td>\n",
       "      <td>0</td>\n",
       "    </tr>\n",
       "    <tr>\n",
       "      <td>90349</td>\n",
       "      <td>1</td>\n",
       "      <td>2</td>\n",
       "      <td>2</td>\n",
       "      <td>2</td>\n",
       "      <td>2</td>\n",
       "      <td>1</td>\n",
       "      <td>2</td>\n",
       "      <td>2</td>\n",
       "      <td>2</td>\n",
       "      <td>1</td>\n",
       "      <td>...</td>\n",
       "      <td>0</td>\n",
       "      <td>0</td>\n",
       "      <td>0</td>\n",
       "      <td>0</td>\n",
       "      <td>0</td>\n",
       "      <td>0</td>\n",
       "      <td>0</td>\n",
       "      <td>0</td>\n",
       "      <td>0</td>\n",
       "      <td>0</td>\n",
       "    </tr>\n",
       "  </tbody>\n",
       "</table>\n",
       "<p>79267 rows × 384 columns</p>\n",
       "</div>"
      ],
      "text/plain": [
       "       V4  V5  V6  V7  V8  V9  V10  V11  V12  V13  ...  Country_724  \\\n",
       "0       1   1   1  -2   1   1    2    1    1    1  ...            0   \n",
       "1       1   2   3   4   2   2    2    2    2    1  ...            0   \n",
       "2       1   3   2   4   2   1    2    2    2    2  ...            0   \n",
       "3       1   1   3   4   3   1    2    1    2    2  ...            0   \n",
       "4       1   1   1   2   1   1    1    3    2    1  ...            0   \n",
       "...    ..  ..  ..  ..  ..  ..  ...  ...  ...  ...  ...          ...   \n",
       "90345   1   3   2   4   1   1    3    3    2    1  ...            0   \n",
       "90346   1   1   1   3   1   1    3    1    2    1  ...            0   \n",
       "90347   1   2   1   3   1   1    3    3    2    1  ...            0   \n",
       "90348   1   2   2   3   1   1    2    2    2    1  ...            0   \n",
       "90349   1   2   2   2   2   1    2    2    2    1  ...            0   \n",
       "\n",
       "       Country_752  Country_764  Country_780  Country_788  Country_792  \\\n",
       "0                0            0            0            0            0   \n",
       "1                0            0            0            0            0   \n",
       "2                0            0            0            0            0   \n",
       "3                0            0            0            0            0   \n",
       "4                0            0            0            0            0   \n",
       "...            ...          ...          ...          ...          ...   \n",
       "90345            0            0            0            0            0   \n",
       "90346            0            0            0            0            0   \n",
       "90347            0            0            0            0            0   \n",
       "90348            0            0            0            0            0   \n",
       "90349            0            0            0            0            0   \n",
       "\n",
       "       Country_804  Country_840  Country_858  Country_860  \n",
       "0                0            0            0            0  \n",
       "1                0            0            0            0  \n",
       "2                0            0            0            0  \n",
       "3                0            0            0            0  \n",
       "4                0            0            0            0  \n",
       "...            ...          ...          ...          ...  \n",
       "90345            0            0            0            0  \n",
       "90346            0            0            0            0  \n",
       "90347            0            0            0            0  \n",
       "90348            0            0            0            0  \n",
       "90349            0            0            0            0  \n",
       "\n",
       "[79267 rows x 384 columns]"
      ]
     },
     "execution_count": 22,
     "metadata": {},
     "output_type": "execute_result"
    }
   ],
   "source": [
    "wvs_clean"
   ]
  },
  {
   "cell_type": "markdown",
   "metadata": {},
   "source": [
    "### 2 Implement Cross-validation"
   ]
  },
  {
   "cell_type": "code",
   "execution_count": 23,
   "metadata": {},
   "outputs": [],
   "source": [
    "# define my k-CV function\n",
    "def kCV(k, X, y, model):\n",
    "    #select kth index & repeat k times by setting n_splits = k\n",
    "    #shuffle the dataset by setting shuffle=True\n",
    "    kf = KFold(n_splits=k,shuffle=True, random_state=1)\n",
    "    \n",
    "    score = []\n",
    "    \n",
    "    #generate train/test index\n",
    "    for train_index, test_index in kf.split(X):\n",
    "    #generate Xtrain/test, ytrain/test applying the index\n",
    "        X_train, X_test = X.iloc[train_index,:], X.iloc[test_index,:]\n",
    "        y_train, y_test = y.iloc[train_index], y.iloc[test_index]\n",
    "        \n",
    "    #model fit\n",
    "        val = model.fit(X_train, y_train)\n",
    "        y_pred = val.predict(X_test)\n",
    "        score.append(val.score(X_test, y_test))\n",
    "        \n",
    "    #print result for the k-times validation and the average\n",
    "    print('score for k-CV:', score)\n",
    "    print('avg k-CV accuracy:', sum(score)/len(score))\n",
    "    print('f_score:', f1_score(y_test, y_pred, average='weighted'))"
   ]
  },
  {
   "cell_type": "markdown",
   "metadata": {},
   "source": [
    "### 3 Find the best model"
   ]
  },
  {
   "cell_type": "code",
   "execution_count": 24,
   "metadata": {},
   "outputs": [],
   "source": [
    "X = wvs_clean.drop('abortion',axis=1)\n",
    "y = wvs_clean['abortion']"
   ]
  },
  {
   "cell_type": "code",
   "execution_count": 25,
   "metadata": {},
   "outputs": [],
   "source": [
    "#sub set X and y \n",
    "dX = X.sample(5000)\n",
    "dy = y.sample(5000)"
   ]
  },
  {
   "cell_type": "markdown",
   "metadata": {},
   "source": [
    "#### 3-1. k-NN"
   ]
  },
  {
   "cell_type": "markdown",
   "metadata": {},
   "source": [
    "**1 try different k**"
   ]
  },
  {
   "cell_type": "code",
   "execution_count": 26,
   "metadata": {},
   "outputs": [
    {
     "name": "stdout",
     "output_type": "stream",
     "text": [
      "score for k-CV: [0.529, 0.549, 0.542, 0.556, 0.542]\n",
      "avg k-CV accuracy: 0.5436\n",
      "f_score: 0.5439364429896344\n"
     ]
    }
   ],
   "source": [
    "#k=1\n",
    "knn1 = KNeighborsClassifier(n_neighbors=1)\n",
    "kCV(5, dX, dy, knn1)"
   ]
  },
  {
   "cell_type": "code",
   "execution_count": 27,
   "metadata": {},
   "outputs": [
    {
     "name": "stdout",
     "output_type": "stream",
     "text": [
      "score for k-CV: [0.578, 0.576, 0.572, 0.574, 0.571]\n",
      "avg k-CV accuracy: 0.5741999999999999\n",
      "f_score: 0.5486290822014437\n"
     ]
    }
   ],
   "source": [
    "#k=5\n",
    "knn5 = KNeighborsClassifier(n_neighbors=5)\n",
    "kCV(5, dX, dy, knn5)"
   ]
  },
  {
   "cell_type": "code",
   "execution_count": 28,
   "metadata": {},
   "outputs": [
    {
     "name": "stdout",
     "output_type": "stream",
     "text": [
      "score for k-CV: [0.615, 0.622, 0.593, 0.604, 0.605]\n",
      "avg k-CV accuracy: 0.6078\n",
      "f_score: 0.5302805867126833\n"
     ]
    }
   ],
   "source": [
    "#k=10\n",
    "knn10 = KNeighborsClassifier(n_neighbors=10)\n",
    "kCV(5, dX, dy, knn10)"
   ]
  },
  {
   "cell_type": "markdown",
   "metadata": {},
   "source": [
    "**2 try with normalized data**"
   ]
  },
  {
   "cell_type": "code",
   "execution_count": 29,
   "metadata": {},
   "outputs": [
    {
     "name": "stdout",
     "output_type": "stream",
     "text": [
      "score for k-CV: [0.606, 0.606, 0.616, 0.606, 0.61]\n",
      "avg k-CV accuracy: 0.6087999999999999\n",
      "f_score: 0.5388421052631579\n"
     ]
    }
   ],
   "source": [
    "dXN1 = pd.DataFrame(normalize(dX, norm='l1', axis=0))\n",
    "kCV(5, dXN1, dy, knn10)"
   ]
  },
  {
   "cell_type": "markdown",
   "metadata": {},
   "source": [
    "**3 best k-NN model**"
   ]
  },
  {
   "cell_type": "markdown",
   "metadata": {},
   "source": [
    "According to the above result, the best model should be k=10 with normalized data, as it has the highest k-CV accuracy 0.609 and the highest f_score 0.547. Here present the result using *k-NN(k=10)* model."
   ]
  },
  {
   "cell_type": "code",
   "execution_count": 30,
   "metadata": {},
   "outputs": [
    {
     "name": "stdout",
     "output_type": "stream",
     "text": [
      "score for k-CV: [0.7985366469029898, 0.7989151002901476, 0.8007317227023276, 0.8041380180407494, 0.8021194726550179]\n",
      "avg k-CV accuracy: 0.8008881921182465\n",
      "f_score: 0.7963414985547022\n"
     ]
    }
   ],
   "source": [
    "XN1 = pd.DataFrame(normalize(X, norm='l1', axis=0))\n",
    "kCV(5, XN1, y, knn10)"
   ]
  },
  {
   "cell_type": "markdown",
   "metadata": {},
   "source": [
    "#### 3-2. Logistic regression"
   ]
  },
  {
   "cell_type": "code",
   "execution_count": 31,
   "metadata": {},
   "outputs": [],
   "source": [
    "import warnings\n",
    "warnings.filterwarnings('ignore')"
   ]
  },
  {
   "cell_type": "code",
   "execution_count": 32,
   "metadata": {},
   "outputs": [
    {
     "name": "stdout",
     "output_type": "stream",
     "text": [
      "score for k-CV: [0.597, 0.611, 0.593, 0.582, 0.594]\n",
      "avg k-CV accuracy: 0.5953999999999999\n",
      "f_score: 0.5543019800257508\n"
     ]
    }
   ],
   "source": [
    "#with a subset of the whole dataset\n",
    "lr = LogisticRegression()\n",
    "kCV(5, dX, dy, lr)"
   ]
  },
  {
   "cell_type": "markdown",
   "metadata": {},
   "source": [
    "#### 3-3. SVM"
   ]
  },
  {
   "cell_type": "code",
   "execution_count": 33,
   "metadata": {},
   "outputs": [],
   "source": [
    "#sub set X and y \n",
    "dXS = X.sample(1000)\n",
    "dyS = y.sample(1000)"
   ]
  },
  {
   "cell_type": "markdown",
   "metadata": {},
   "source": [
    "**1 test linear kernel**"
   ]
  },
  {
   "cell_type": "code",
   "execution_count": 34,
   "metadata": {},
   "outputs": [
    {
     "name": "stdout",
     "output_type": "stream",
     "text": [
      "score for k-CV: [0.5, 0.57, 0.55, 0.56, 0.55]\n",
      "avg k-CV accuracy: 0.5459999999999999\n",
      "f_score: 0.5537644787644788\n"
     ]
    }
   ],
   "source": [
    "svm_l = SVC(kernel='linear')\n",
    "kCV(5, dXS, dyS, svm_l)"
   ]
  },
  {
   "cell_type": "markdown",
   "metadata": {},
   "source": [
    "**2 test polynominal kernel**"
   ]
  },
  {
   "cell_type": "code",
   "execution_count": 35,
   "metadata": {
    "scrolled": true
   },
   "outputs": [
    {
     "name": "stdout",
     "output_type": "stream",
     "text": [
      "score for k-CV: [0.615, 0.585, 0.585, 0.595, 0.63]\n",
      "avg k-CV accuracy: 0.602\n",
      "f_score: 0.5965956112852664\n"
     ]
    }
   ],
   "source": [
    "#degree=1\n",
    "svm_p1 = SVC(kernel='poly',degree=1,gamma='auto')\n",
    "kCV(5, dXS, dyS, svm_p1)"
   ]
  },
  {
   "cell_type": "code",
   "execution_count": 36,
   "metadata": {},
   "outputs": [
    {
     "name": "stdout",
     "output_type": "stream",
     "text": [
      "score for k-CV: [0.51, 0.525, 0.53, 0.535, 0.54]\n",
      "avg k-CV accuracy: 0.528\n",
      "f_score: 0.5350802139037433\n"
     ]
    }
   ],
   "source": [
    "#degree=8\n",
    "svm_p8 = SVC(kernel='poly',degree=8,gamma='auto')\n",
    "kCV(5, dXS, dyS, svm_p8)"
   ]
  },
  {
   "cell_type": "markdown",
   "metadata": {},
   "source": [
    "**3 test radial kernel**"
   ]
  },
  {
   "cell_type": "code",
   "execution_count": 37,
   "metadata": {},
   "outputs": [
    {
     "name": "stdout",
     "output_type": "stream",
     "text": [
      "score for k-CV: [0.65, 0.655, 0.62, 0.64, 0.645]\n",
      "avg k-CV accuracy: 0.6420000000000001\n",
      "f_score: 0.50580547112462\n"
     ]
    }
   ],
   "source": [
    "#gamma = 2\n",
    "svm_r1 = SVC(kernel='rbf',gamma= 2)\n",
    "kCV(5, dXS, dyS, svm_r1)"
   ]
  },
  {
   "cell_type": "code",
   "execution_count": 38,
   "metadata": {},
   "outputs": [
    {
     "name": "stdout",
     "output_type": "stream",
     "text": [
      "score for k-CV: [0.65, 0.655, 0.62, 0.64, 0.645]\n",
      "avg k-CV accuracy: 0.6420000000000001\n",
      "f_score: 0.50580547112462\n"
     ]
    }
   ],
   "source": [
    "#gamma = 0.1\n",
    "svm_r2 = SVC(kernel='rbf',gamma= 0.1)\n",
    "kCV(5, dXS, dyS, svm_r2)"
   ]
  },
  {
   "cell_type": "markdown",
   "metadata": {},
   "source": [
    "**4 test sigmoid kernel**"
   ]
  },
  {
   "cell_type": "code",
   "execution_count": 39,
   "metadata": {},
   "outputs": [
    {
     "name": "stdout",
     "output_type": "stream",
     "text": [
      "score for k-CV: [0.65, 0.655, 0.62, 0.64, 0.645]\n",
      "avg k-CV accuracy: 0.6420000000000001\n",
      "f_score: 0.50580547112462\n"
     ]
    }
   ],
   "source": [
    "#gamma = 2\n",
    "svm_s1 = SVC(kernel='sigmoid',gamma= 2)\n",
    "kCV(5, dXS, dyS, svm_s1)"
   ]
  },
  {
   "cell_type": "code",
   "execution_count": 40,
   "metadata": {},
   "outputs": [
    {
     "name": "stdout",
     "output_type": "stream",
     "text": [
      "score for k-CV: [0.65, 0.655, 0.62, 0.64, 0.645]\n",
      "avg k-CV accuracy: 0.6420000000000001\n",
      "f_score: 0.50580547112462\n"
     ]
    }
   ],
   "source": [
    "#gamma = 0.1\n",
    "svm_s2 = SVC(kernel='sigmoid',gamma= 0.1)\n",
    "kCV(5, dXS, dyS, svm_s2)"
   ]
  },
  {
   "cell_type": "markdown",
   "metadata": {},
   "source": [
    "**5 why high accuracy and low f-score?**"
   ]
  },
  {
   "cell_type": "markdown",
   "metadata": {},
   "source": [
    "This phenomenon happens when the class in the dataset is **imbalanced**. \n",
    "\n",
    "In this case, there are more people thinking that abortion is not justifiable. If the model predicts and classifies most cases to be \"0\" (not support abortion), the accuracy rate would be naturally higher. \n",
    "\n",
    "However, the model's ability to identify relevant cases may not be as high. "
   ]
  },
  {
   "cell_type": "markdown",
   "metadata": {},
   "source": [
    "**6 present the model result**"
   ]
  },
  {
   "cell_type": "markdown",
   "metadata": {},
   "source": [
    "The two sigmoid adn the two radial kernels share the same result with the highest **k-CV accuracy socre 0.626** and the lowest **f_score 0.5312**. \n",
    "\n",
    "The other one that has the highest f_score is the linear, with an **accuracy socre 0.542** and a **f_score 0.593**"
   ]
  },
  {
   "cell_type": "markdown",
   "metadata": {},
   "source": [
    "#### 3-4. Compare models"
   ]
  },
  {
   "cell_type": "markdown",
   "metadata": {},
   "source": [
    "(1) The best performed model in terms of accuracy is the SVM radial/sigmoid model given either gamma = 0.1 or 2. It reaches the highest accuracy 0.626.\n",
    "\n",
    "The best performed model in terms of F-score is the SVM linear model. It reaches the highest score 0.593.\n",
    "\n",
    "The logistic regression model is the fastest, while the SVM methods seem to never complete calculation after including the entire dataset. "
   ]
  },
  {
   "cell_type": "markdown",
   "metadata": {},
   "source": [
    "(2) From my perspective, I would prefer the **SVM polynominal kernel model with degree=1**. Although it doesn't have the highest accuracy/F-score, both values are relatively high **(accuracy=0.591, F_score=0.587)**, so I imply that this model may give a relatively more reliable result."
   ]
  },
  {
   "cell_type": "markdown",
   "metadata": {},
   "source": [
    "### 4 Does \"Country\" play a role in the prediction?"
   ]
  },
  {
   "cell_type": "markdown",
   "metadata": {},
   "source": [
    "**1 best ML model with country dummies (sample=1000)**"
   ]
  },
  {
   "cell_type": "code",
   "execution_count": 41,
   "metadata": {},
   "outputs": [
    {
     "name": "stdout",
     "output_type": "stream",
     "text": [
      "score for k-CV: [0.615, 0.585, 0.585, 0.595, 0.63]\n",
      "avg k-CV accuracy: 0.602\n",
      "f_score: 0.5965956112852664\n"
     ]
    }
   ],
   "source": [
    "#repeat previous computation\n",
    "svm_p1 = SVC(kernel='poly',degree=1,gamma='auto')\n",
    "kCV(5, dXS, dyS, svm_p1)"
   ]
  },
  {
   "cell_type": "markdown",
   "metadata": {},
   "source": [
    "**2 ML model without country dummies (sample=1000)**"
   ]
  },
  {
   "cell_type": "code",
   "execution_count": 64,
   "metadata": {},
   "outputs": [],
   "source": [
    "#prepare the dataset removing all country dummies\n",
    "clm = [col for col in X.columns if 'Country' not in col]\n",
    "X2 = X.loc[:,clm]\n",
    "dX2S = X2.sample(1000)"
   ]
  },
  {
   "cell_type": "code",
   "execution_count": 65,
   "metadata": {},
   "outputs": [
    {
     "name": "stdout",
     "output_type": "stream",
     "text": [
      "score for k-CV: [0.61, 0.55, 0.575, 0.57, 0.57]\n",
      "avg k-CV accuracy: 0.575\n",
      "f_score: 0.5273490613901572\n"
     ]
    }
   ],
   "source": [
    "#compute stats \n",
    "svm_p1_2 = SVC(kernel='poly',degree=1,gamma='auto')\n",
    "kCV(5, dX2S, dyS, svm_p1_2)"
   ]
  },
  {
   "cell_type": "markdown",
   "metadata": {},
   "source": [
    "**3 findings**"
   ]
  },
  {
   "cell_type": "markdown",
   "metadata": {},
   "source": [
    "From the above result, it seems that models with the country information have a higher k-CV accuracy as well as f_score, suggesting an improved prediction. \n",
    "\n",
    "However, there were 58 country dummies, making the fitting of the model naturally higher and increasing the probability of predicting the result by chance. Here it is hard to conclude that the country information causes the increased accuracy and F-score. It is more likely that the increased variables lead to the change."
   ]
  }
 ],
 "metadata": {
  "kernelspec": {
   "display_name": "Python 3",
   "language": "python",
   "name": "python3"
  },
  "language_info": {
   "codemirror_mode": {
    "name": "ipython",
    "version": 3
   },
   "file_extension": ".py",
   "mimetype": "text/x-python",
   "name": "python",
   "nbconvert_exporter": "python",
   "pygments_lexer": "ipython3",
   "version": "3.7.4"
  },
  "toc": {
   "base_numbering": 1,
   "nav_menu": {},
   "number_sections": true,
   "sideBar": true,
   "skip_h1_title": false,
   "title_cell": "Table of Contents",
   "title_sidebar": "Contents",
   "toc_cell": false,
   "toc_position": {},
   "toc_section_display": true,
   "toc_window_display": false
  }
 },
 "nbformat": 4,
 "nbformat_minor": 2
}
